{
 "cells": [
  {
   "cell_type": "markdown",
   "metadata": {
    "id": "XfPJby-2E_II"
   },
   "source": [
    "# Step 1: Install and Import Libraries"
   ]
  },
  {
   "cell_type": "code",
   "execution_count": 1,
   "metadata": {
    "id": "CaAXOq7cFUCx"
   },
   "outputs": [],
   "source": [
    "# Get time series data\n",
    "#import yfinance as yf\n",
    "\n",
    "# Prophet model for time series forecast\n",
    "from prophet import Prophet\n",
    "\n",
    "# Data processing\n",
    "import numpy as np\n",
    "import pandas as pd\n",
    "\n",
    "# Visualization\n",
    "import seaborn as sns\n",
    "import matplotlib.pyplot as plt\n",
    "\n",
    "# Model performance evaluation\n",
    "from sklearn.metrics import mean_absolute_error, mean_absolute_percentage_error"
   ]
  },
  {
   "cell_type": "markdown",
   "metadata": {
    "id": "2S3-Wup8FVRK"
   },
   "source": [
    "# Step 2: Pull Data"
   ]
  },
  {
   "cell_type": "code",
   "execution_count": 2,
   "metadata": {
    "colab": {
     "base_uri": "https://localhost:8080/"
    },
    "id": "usryUP-CnfWe",
    "outputId": "ba14eaf1-e7db-48fb-ad4d-97843e953e1b"
   },
   "outputs": [
    {
     "name": "stdout",
     "output_type": "stream",
     "text": [
      "           ds                   y\n",
      "0  1732113270   4.141843971631205\n",
      "1  1732113300   7.326732673267326\n",
      "2  1732113330  7.8466386554621845\n",
      "3  1732113360                 8.3\n",
      "4  1732113390  7.0640569395017785\n"
     ]
    }
   ],
   "source": [
    "import pandas as pd\n",
    "import requests\n",
    "\n",
    "# Replace with your actual GitHub raw file URL\n",
    "# github_url = \"https://raw.githubusercontent.com/cfwiecha/Fall2024Capstone/refs/heads/main/frontend_shipping_source_300m_30s_pruned.json\"\n",
    "\n",
    "github_url = \"https://raw.githubusercontent.com/delphine-boke/aiops-lab6-raw-file/refs/heads/main/boutique_training_updated_edited.json\"\n",
    "try:\n",
    "    response = requests.get(github_url)\n",
    "    response.raise_for_status()  # Raise an exception for bad status codes (4xx or 5xx)\n",
    "\n",
    "    data = response.json()\n",
    "    df_train = pd.DataFrame( data['data']['result'][0]['values'] )\n",
    "    df_train.columns = ['ds', 'y']\n",
    "    print( df_train.head() )\n",
    "\n",
    "except requests.exceptions.RequestException as e:\n",
    "    print(f\"Error fetching data from GitHub: {e}\")\n",
    "except ValueError as e:\n",
    "    print(f\"Error decoding JSON response: {e}\")\n",
    "except Exception as e:\n",
    "    print(f\"An unexpected error occurred: {e}\")"
   ]
  },
  {
   "cell_type": "code",
   "execution_count": 3,
   "metadata": {
    "id": "_zq9BH2CnR3j"
   },
   "outputs": [],
   "source": [
    "import json"
   ]
  },
  {
   "cell_type": "code",
   "execution_count": 4,
   "metadata": {
    "colab": {
     "base_uri": "https://localhost:8080/",
     "height": 424
    },
    "id": "2yj7H4BAnR3j",
    "outputId": "f7fca27e-2672-491d-a788-5ee01e4a6ea4"
   },
   "outputs": [
    {
     "data": {
      "text/html": [
       "<div>\n",
       "<style scoped>\n",
       "    .dataframe tbody tr th:only-of-type {\n",
       "        vertical-align: middle;\n",
       "    }\n",
       "\n",
       "    .dataframe tbody tr th {\n",
       "        vertical-align: top;\n",
       "    }\n",
       "\n",
       "    .dataframe thead th {\n",
       "        text-align: right;\n",
       "    }\n",
       "</style>\n",
       "<table border=\"1\" class=\"dataframe\">\n",
       "  <thead>\n",
       "    <tr style=\"text-align: right;\">\n",
       "      <th></th>\n",
       "      <th>ds</th>\n",
       "      <th>y</th>\n",
       "    </tr>\n",
       "  </thead>\n",
       "  <tbody>\n",
       "    <tr>\n",
       "      <th>0</th>\n",
       "      <td>1732113270</td>\n",
       "      <td>4.141843971631205</td>\n",
       "    </tr>\n",
       "    <tr>\n",
       "      <th>1</th>\n",
       "      <td>1732113300</td>\n",
       "      <td>7.326732673267326</td>\n",
       "    </tr>\n",
       "    <tr>\n",
       "      <th>2</th>\n",
       "      <td>1732113330</td>\n",
       "      <td>7.8466386554621845</td>\n",
       "    </tr>\n",
       "    <tr>\n",
       "      <th>3</th>\n",
       "      <td>1732113360</td>\n",
       "      <td>8.3</td>\n",
       "    </tr>\n",
       "    <tr>\n",
       "      <th>4</th>\n",
       "      <td>1732113390</td>\n",
       "      <td>7.0640569395017785</td>\n",
       "    </tr>\n",
       "    <tr>\n",
       "      <th>...</th>\n",
       "      <td>...</td>\n",
       "      <td>...</td>\n",
       "    </tr>\n",
       "    <tr>\n",
       "      <th>91</th>\n",
       "      <td>1732116180</td>\n",
       "      <td>3.1486486486486487</td>\n",
       "    </tr>\n",
       "    <tr>\n",
       "      <th>92</th>\n",
       "      <td>1732116210</td>\n",
       "      <td>3.018181818181818</td>\n",
       "    </tr>\n",
       "    <tr>\n",
       "      <th>93</th>\n",
       "      <td>1732116240</td>\n",
       "      <td>3.0185185185185186</td>\n",
       "    </tr>\n",
       "    <tr>\n",
       "      <th>94</th>\n",
       "      <td>1732116270</td>\n",
       "      <td>3.016260162601626</td>\n",
       "    </tr>\n",
       "    <tr>\n",
       "      <th>95</th>\n",
       "      <td>1732116300</td>\n",
       "      <td>3</td>\n",
       "    </tr>\n",
       "  </tbody>\n",
       "</table>\n",
       "<p>96 rows × 2 columns</p>\n",
       "</div>"
      ],
      "text/plain": [
       "            ds                   y\n",
       "0   1732113270   4.141843971631205\n",
       "1   1732113300   7.326732673267326\n",
       "2   1732113330  7.8466386554621845\n",
       "3   1732113360                 8.3\n",
       "4   1732113390  7.0640569395017785\n",
       "..         ...                 ...\n",
       "91  1732116180  3.1486486486486487\n",
       "92  1732116210   3.018181818181818\n",
       "93  1732116240  3.0185185185185186\n",
       "94  1732116270   3.016260162601626\n",
       "95  1732116300                   3\n",
       "\n",
       "[96 rows x 2 columns]"
      ]
     },
     "execution_count": 4,
     "metadata": {},
     "output_type": "execute_result"
    }
   ],
   "source": [
    "f = open(\"boutique_training_updated_edited.json\")\n",
    "prom = json.load(f)\n",
    "df_train = pd.DataFrame( data['data']['result'][0]['values'] )\n",
    "df_train.columns = ['ds', 'y']\n",
    "df_train"
   ]
  },
  {
   "cell_type": "code",
   "execution_count": 5,
   "metadata": {
    "colab": {
     "base_uri": "https://localhost:8080/"
    },
    "id": "EyqAGTUAnR3k",
    "outputId": "843cff32-a7fc-4d4f-ae14-1b59a385a3c9"
   },
   "outputs": [
    {
     "name": "stdout",
     "output_type": "stream",
     "text": [
      "           ds                   y\n",
      "0  1732113270   4.141843971631205\n",
      "1  1732113300   7.326732673267326\n",
      "2  1732113330  7.8466386554621845\n",
      "3  1732113360                 8.3\n",
      "4  1732113390  7.0640569395017785\n"
     ]
    }
   ],
   "source": [
    "# Replace with your actual GitHub raw file URL\n",
    "# github_url = \"https://raw.githubusercontent.com/cfwiecha/Fall2024Capstone/refs/heads/main/20min.json\"\n",
    "\n",
    "github_url = \"https://raw.githubusercontent.com/delphine-boke/aiops-lab6-raw-file/refs/heads/main/boutique_training_updated_edited.json\"\n",
    "\n",
    "try:\n",
    "    response = requests.get(github_url)\n",
    "    response.raise_for_status()  # Raise an exception for bad status codes (4xx or 5xx)\n",
    "\n",
    "    data = response.json()\n",
    "    df_test = pd.DataFrame( data['data']['result'][0]['values'] )\n",
    "    df_test.columns = ['ds', 'y']\n",
    "    print( df_test.head() )\n",
    "\n",
    "except requests.exceptions.RequestException as e:\n",
    "    print(f\"Error fetching data from GitHub: {e}\")\n",
    "except ValueError as e:\n",
    "    print(f\"Error decoding JSON response: {e}\")\n",
    "except Exception as e:\n",
    "    print(f\"An unexpected error occurred: {e}\")\n",
    "\n"
   ]
  },
  {
   "cell_type": "code",
   "execution_count": 6,
   "metadata": {
    "colab": {
     "base_uri": "https://localhost:8080/",
     "height": 1000
    },
    "id": "ZiiCB3hbrW7z",
    "outputId": "aa3258d1-f8c3-4a57-a557-62e4fe61c56d"
   },
   "outputs": [
    {
     "data": {
      "text/html": [
       "<div>\n",
       "<style scoped>\n",
       "    .dataframe tbody tr th:only-of-type {\n",
       "        vertical-align: middle;\n",
       "    }\n",
       "\n",
       "    .dataframe tbody tr th {\n",
       "        vertical-align: top;\n",
       "    }\n",
       "\n",
       "    .dataframe thead th {\n",
       "        text-align: right;\n",
       "    }\n",
       "</style>\n",
       "<table border=\"1\" class=\"dataframe\">\n",
       "  <thead>\n",
       "    <tr style=\"text-align: right;\">\n",
       "      <th></th>\n",
       "      <th>ds</th>\n",
       "      <th>y</th>\n",
       "    </tr>\n",
       "  </thead>\n",
       "  <tbody>\n",
       "    <tr>\n",
       "      <th>0</th>\n",
       "      <td>1732113270</td>\n",
       "      <td>4.141843971631205</td>\n",
       "    </tr>\n",
       "    <tr>\n",
       "      <th>1</th>\n",
       "      <td>1732113300</td>\n",
       "      <td>7.326732673267326</td>\n",
       "    </tr>\n",
       "    <tr>\n",
       "      <th>2</th>\n",
       "      <td>1732113330</td>\n",
       "      <td>7.8466386554621845</td>\n",
       "    </tr>\n",
       "    <tr>\n",
       "      <th>3</th>\n",
       "      <td>1732113360</td>\n",
       "      <td>8.3</td>\n",
       "    </tr>\n",
       "    <tr>\n",
       "      <th>4</th>\n",
       "      <td>1732113390</td>\n",
       "      <td>7.0640569395017785</td>\n",
       "    </tr>\n",
       "    <tr>\n",
       "      <th>...</th>\n",
       "      <td>...</td>\n",
       "      <td>...</td>\n",
       "    </tr>\n",
       "    <tr>\n",
       "      <th>91</th>\n",
       "      <td>1732116180</td>\n",
       "      <td>3.1486486486486487</td>\n",
       "    </tr>\n",
       "    <tr>\n",
       "      <th>92</th>\n",
       "      <td>1732116210</td>\n",
       "      <td>3.018181818181818</td>\n",
       "    </tr>\n",
       "    <tr>\n",
       "      <th>93</th>\n",
       "      <td>1732116240</td>\n",
       "      <td>3.0185185185185186</td>\n",
       "    </tr>\n",
       "    <tr>\n",
       "      <th>94</th>\n",
       "      <td>1732116270</td>\n",
       "      <td>3.016260162601626</td>\n",
       "    </tr>\n",
       "    <tr>\n",
       "      <th>95</th>\n",
       "      <td>1732116300</td>\n",
       "      <td>3</td>\n",
       "    </tr>\n",
       "  </tbody>\n",
       "</table>\n",
       "<p>96 rows × 2 columns</p>\n",
       "</div>"
      ],
      "text/plain": [
       "            ds                   y\n",
       "0   1732113270   4.141843971631205\n",
       "1   1732113300   7.326732673267326\n",
       "2   1732113330  7.8466386554621845\n",
       "3   1732113360                 8.3\n",
       "4   1732113390  7.0640569395017785\n",
       "..         ...                 ...\n",
       "91  1732116180  3.1486486486486487\n",
       "92  1732116210   3.018181818181818\n",
       "93  1732116240  3.0185185185185186\n",
       "94  1732116270   3.016260162601626\n",
       "95  1732116300                   3\n",
       "\n",
       "[96 rows x 2 columns]"
      ]
     },
     "execution_count": 6,
     "metadata": {},
     "output_type": "execute_result"
    }
   ],
   "source": [
    "df_test"
   ]
  },
  {
   "cell_type": "code",
   "execution_count": 7,
   "metadata": {
    "colab": {
     "base_uri": "https://localhost:8080/",
     "height": 224
    },
    "id": "p5V3t0pFnR3k",
    "outputId": "2c113117-9258-4b27-a291-b8f0fbfd90d0"
   },
   "outputs": [
    {
     "name": "stdout",
     "output_type": "stream",
     "text": [
      "1732113270\n"
     ]
    },
    {
     "data": {
      "text/html": [
       "<div>\n",
       "<style scoped>\n",
       "    .dataframe tbody tr th:only-of-type {\n",
       "        vertical-align: middle;\n",
       "    }\n",
       "\n",
       "    .dataframe tbody tr th {\n",
       "        vertical-align: top;\n",
       "    }\n",
       "\n",
       "    .dataframe thead th {\n",
       "        text-align: right;\n",
       "    }\n",
       "</style>\n",
       "<table border=\"1\" class=\"dataframe\">\n",
       "  <thead>\n",
       "    <tr style=\"text-align: right;\">\n",
       "      <th></th>\n",
       "      <th>ds</th>\n",
       "      <th>y</th>\n",
       "    </tr>\n",
       "  </thead>\n",
       "  <tbody>\n",
       "    <tr>\n",
       "      <th>0</th>\n",
       "      <td>0</td>\n",
       "      <td>4.141843971631205</td>\n",
       "    </tr>\n",
       "    <tr>\n",
       "      <th>1</th>\n",
       "      <td>30</td>\n",
       "      <td>7.326732673267326</td>\n",
       "    </tr>\n",
       "    <tr>\n",
       "      <th>2</th>\n",
       "      <td>60</td>\n",
       "      <td>7.8466386554621845</td>\n",
       "    </tr>\n",
       "    <tr>\n",
       "      <th>3</th>\n",
       "      <td>90</td>\n",
       "      <td>8.3</td>\n",
       "    </tr>\n",
       "    <tr>\n",
       "      <th>4</th>\n",
       "      <td>120</td>\n",
       "      <td>7.0640569395017785</td>\n",
       "    </tr>\n",
       "  </tbody>\n",
       "</table>\n",
       "</div>"
      ],
      "text/plain": [
       "    ds                   y\n",
       "0    0   4.141843971631205\n",
       "1   30   7.326732673267326\n",
       "2   60  7.8466386554621845\n",
       "3   90                 8.3\n",
       "4  120  7.0640569395017785"
      ]
     },
     "execution_count": 7,
     "metadata": {},
     "output_type": "execute_result"
    }
   ],
   "source": [
    "#align test timestamps with training by time shifting back to the first train time...assume test data starts from 0 cycle time like training data\n",
    "\n",
    "train_start_ds = df_train['ds'].iloc[0]\n",
    "print(train_start_ds)\n",
    "\n",
    "df_train['ds'] = df_train['ds'] - train_start_ds\n",
    "\n",
    "df_train.head()"
   ]
  },
  {
   "cell_type": "code",
   "execution_count": 8,
   "metadata": {
    "colab": {
     "base_uri": "https://localhost:8080/",
     "height": 224
    },
    "id": "V6VjYRHCrybM",
    "outputId": "69cc7edc-e6d3-491e-cb51-a4e63305c633"
   },
   "outputs": [
    {
     "name": "stdout",
     "output_type": "stream",
     "text": [
      "1732113270\n"
     ]
    },
    {
     "data": {
      "text/html": [
       "<div>\n",
       "<style scoped>\n",
       "    .dataframe tbody tr th:only-of-type {\n",
       "        vertical-align: middle;\n",
       "    }\n",
       "\n",
       "    .dataframe tbody tr th {\n",
       "        vertical-align: top;\n",
       "    }\n",
       "\n",
       "    .dataframe thead th {\n",
       "        text-align: right;\n",
       "    }\n",
       "</style>\n",
       "<table border=\"1\" class=\"dataframe\">\n",
       "  <thead>\n",
       "    <tr style=\"text-align: right;\">\n",
       "      <th></th>\n",
       "      <th>ds</th>\n",
       "      <th>y</th>\n",
       "    </tr>\n",
       "  </thead>\n",
       "  <tbody>\n",
       "    <tr>\n",
       "      <th>0</th>\n",
       "      <td>0</td>\n",
       "      <td>4.141843971631205</td>\n",
       "    </tr>\n",
       "    <tr>\n",
       "      <th>1</th>\n",
       "      <td>30</td>\n",
       "      <td>7.326732673267326</td>\n",
       "    </tr>\n",
       "    <tr>\n",
       "      <th>2</th>\n",
       "      <td>60</td>\n",
       "      <td>7.8466386554621845</td>\n",
       "    </tr>\n",
       "    <tr>\n",
       "      <th>3</th>\n",
       "      <td>90</td>\n",
       "      <td>8.3</td>\n",
       "    </tr>\n",
       "    <tr>\n",
       "      <th>4</th>\n",
       "      <td>120</td>\n",
       "      <td>7.0640569395017785</td>\n",
       "    </tr>\n",
       "  </tbody>\n",
       "</table>\n",
       "</div>"
      ],
      "text/plain": [
       "    ds                   y\n",
       "0    0   4.141843971631205\n",
       "1   30   7.326732673267326\n",
       "2   60  7.8466386554621845\n",
       "3   90                 8.3\n",
       "4  120  7.0640569395017785"
      ]
     },
     "execution_count": 8,
     "metadata": {},
     "output_type": "execute_result"
    }
   ],
   "source": [
    "#align test timestamps with training by time shifting back to the first train time...assume test data starts from 0 cycle time like training data\n",
    "\n",
    "test_start_ds = df_test['ds'].iloc[0]\n",
    "print(test_start_ds)\n",
    "\n",
    "df_test['ds'] = df_test['ds'] - test_start_ds\n",
    "\n",
    "df_test.head()"
   ]
  },
  {
   "cell_type": "code",
   "execution_count": 9,
   "metadata": {
    "id": "maKxHBJ2nR3l"
   },
   "outputs": [],
   "source": [
    "from datetime import datetime"
   ]
  },
  {
   "cell_type": "code",
   "execution_count": 10,
   "metadata": {
    "colab": {
     "base_uri": "https://localhost:8080/",
     "height": 424
    },
    "id": "xiFKjmGrnR3l",
    "outputId": "bb99a0c0-d401-44f2-e5a4-f711304a7be1"
   },
   "outputs": [
    {
     "data": {
      "text/html": [
       "<div>\n",
       "<style scoped>\n",
       "    .dataframe tbody tr th:only-of-type {\n",
       "        vertical-align: middle;\n",
       "    }\n",
       "\n",
       "    .dataframe tbody tr th {\n",
       "        vertical-align: top;\n",
       "    }\n",
       "\n",
       "    .dataframe thead th {\n",
       "        text-align: right;\n",
       "    }\n",
       "</style>\n",
       "<table border=\"1\" class=\"dataframe\">\n",
       "  <thead>\n",
       "    <tr style=\"text-align: right;\">\n",
       "      <th></th>\n",
       "      <th>ds</th>\n",
       "      <th>y</th>\n",
       "    </tr>\n",
       "  </thead>\n",
       "  <tbody>\n",
       "    <tr>\n",
       "      <th>0</th>\n",
       "      <td>1970-01-01 02:00:00</td>\n",
       "      <td>4.141843971631205</td>\n",
       "    </tr>\n",
       "    <tr>\n",
       "      <th>1</th>\n",
       "      <td>1970-01-01 02:00:30</td>\n",
       "      <td>7.326732673267326</td>\n",
       "    </tr>\n",
       "    <tr>\n",
       "      <th>2</th>\n",
       "      <td>1970-01-01 02:01:00</td>\n",
       "      <td>7.8466386554621845</td>\n",
       "    </tr>\n",
       "    <tr>\n",
       "      <th>3</th>\n",
       "      <td>1970-01-01 02:01:30</td>\n",
       "      <td>8.3</td>\n",
       "    </tr>\n",
       "    <tr>\n",
       "      <th>4</th>\n",
       "      <td>1970-01-01 02:02:00</td>\n",
       "      <td>7.0640569395017785</td>\n",
       "    </tr>\n",
       "    <tr>\n",
       "      <th>...</th>\n",
       "      <td>...</td>\n",
       "      <td>...</td>\n",
       "    </tr>\n",
       "    <tr>\n",
       "      <th>91</th>\n",
       "      <td>1970-01-01 02:48:30</td>\n",
       "      <td>3.1486486486486487</td>\n",
       "    </tr>\n",
       "    <tr>\n",
       "      <th>92</th>\n",
       "      <td>1970-01-01 02:49:00</td>\n",
       "      <td>3.018181818181818</td>\n",
       "    </tr>\n",
       "    <tr>\n",
       "      <th>93</th>\n",
       "      <td>1970-01-01 02:49:30</td>\n",
       "      <td>3.0185185185185186</td>\n",
       "    </tr>\n",
       "    <tr>\n",
       "      <th>94</th>\n",
       "      <td>1970-01-01 02:50:00</td>\n",
       "      <td>3.016260162601626</td>\n",
       "    </tr>\n",
       "    <tr>\n",
       "      <th>95</th>\n",
       "      <td>1970-01-01 02:50:30</td>\n",
       "      <td>3</td>\n",
       "    </tr>\n",
       "  </tbody>\n",
       "</table>\n",
       "<p>96 rows × 2 columns</p>\n",
       "</div>"
      ],
      "text/plain": [
       "                    ds                   y\n",
       "0  1970-01-01 02:00:00   4.141843971631205\n",
       "1  1970-01-01 02:00:30   7.326732673267326\n",
       "2  1970-01-01 02:01:00  7.8466386554621845\n",
       "3  1970-01-01 02:01:30                 8.3\n",
       "4  1970-01-01 02:02:00  7.0640569395017785\n",
       "..                 ...                 ...\n",
       "91 1970-01-01 02:48:30  3.1486486486486487\n",
       "92 1970-01-01 02:49:00   3.018181818181818\n",
       "93 1970-01-01 02:49:30  3.0185185185185186\n",
       "94 1970-01-01 02:50:00   3.016260162601626\n",
       "95 1970-01-01 02:50:30                   3\n",
       "\n",
       "[96 rows x 2 columns]"
      ]
     },
     "execution_count": 10,
     "metadata": {},
     "output_type": "execute_result"
    }
   ],
   "source": [
    "df_train['ds'] = df_train['ds'].apply(lambda sec: datetime.fromtimestamp(sec))\n",
    "df_train"
   ]
  },
  {
   "cell_type": "code",
   "execution_count": 11,
   "metadata": {
    "colab": {
     "base_uri": "https://localhost:8080/",
     "height": 1000
    },
    "id": "sT03u_z1nR3l",
    "outputId": "bba54fa4-d26c-425d-da4e-00de5a90bfa8"
   },
   "outputs": [
    {
     "data": {
      "text/html": [
       "<div>\n",
       "<style scoped>\n",
       "    .dataframe tbody tr th:only-of-type {\n",
       "        vertical-align: middle;\n",
       "    }\n",
       "\n",
       "    .dataframe tbody tr th {\n",
       "        vertical-align: top;\n",
       "    }\n",
       "\n",
       "    .dataframe thead th {\n",
       "        text-align: right;\n",
       "    }\n",
       "</style>\n",
       "<table border=\"1\" class=\"dataframe\">\n",
       "  <thead>\n",
       "    <tr style=\"text-align: right;\">\n",
       "      <th></th>\n",
       "      <th>ds</th>\n",
       "      <th>y</th>\n",
       "    </tr>\n",
       "  </thead>\n",
       "  <tbody>\n",
       "    <tr>\n",
       "      <th>0</th>\n",
       "      <td>1970-01-01 02:00:00</td>\n",
       "      <td>4.141843971631205</td>\n",
       "    </tr>\n",
       "    <tr>\n",
       "      <th>1</th>\n",
       "      <td>1970-01-01 02:00:30</td>\n",
       "      <td>7.326732673267326</td>\n",
       "    </tr>\n",
       "    <tr>\n",
       "      <th>2</th>\n",
       "      <td>1970-01-01 02:01:00</td>\n",
       "      <td>7.8466386554621845</td>\n",
       "    </tr>\n",
       "    <tr>\n",
       "      <th>3</th>\n",
       "      <td>1970-01-01 02:01:30</td>\n",
       "      <td>8.3</td>\n",
       "    </tr>\n",
       "    <tr>\n",
       "      <th>4</th>\n",
       "      <td>1970-01-01 02:02:00</td>\n",
       "      <td>7.0640569395017785</td>\n",
       "    </tr>\n",
       "    <tr>\n",
       "      <th>...</th>\n",
       "      <td>...</td>\n",
       "      <td>...</td>\n",
       "    </tr>\n",
       "    <tr>\n",
       "      <th>91</th>\n",
       "      <td>1970-01-01 02:48:30</td>\n",
       "      <td>3.1486486486486487</td>\n",
       "    </tr>\n",
       "    <tr>\n",
       "      <th>92</th>\n",
       "      <td>1970-01-01 02:49:00</td>\n",
       "      <td>3.018181818181818</td>\n",
       "    </tr>\n",
       "    <tr>\n",
       "      <th>93</th>\n",
       "      <td>1970-01-01 02:49:30</td>\n",
       "      <td>3.0185185185185186</td>\n",
       "    </tr>\n",
       "    <tr>\n",
       "      <th>94</th>\n",
       "      <td>1970-01-01 02:50:00</td>\n",
       "      <td>3.016260162601626</td>\n",
       "    </tr>\n",
       "    <tr>\n",
       "      <th>95</th>\n",
       "      <td>1970-01-01 02:50:30</td>\n",
       "      <td>3</td>\n",
       "    </tr>\n",
       "  </tbody>\n",
       "</table>\n",
       "<p>96 rows × 2 columns</p>\n",
       "</div>"
      ],
      "text/plain": [
       "                    ds                   y\n",
       "0  1970-01-01 02:00:00   4.141843971631205\n",
       "1  1970-01-01 02:00:30   7.326732673267326\n",
       "2  1970-01-01 02:01:00  7.8466386554621845\n",
       "3  1970-01-01 02:01:30                 8.3\n",
       "4  1970-01-01 02:02:00  7.0640569395017785\n",
       "..                 ...                 ...\n",
       "91 1970-01-01 02:48:30  3.1486486486486487\n",
       "92 1970-01-01 02:49:00   3.018181818181818\n",
       "93 1970-01-01 02:49:30  3.0185185185185186\n",
       "94 1970-01-01 02:50:00   3.016260162601626\n",
       "95 1970-01-01 02:50:30                   3\n",
       "\n",
       "[96 rows x 2 columns]"
      ]
     },
     "execution_count": 11,
     "metadata": {},
     "output_type": "execute_result"
    }
   ],
   "source": [
    "df_test['ds'] = df_test['ds'].apply(lambda sec: datetime.fromtimestamp(sec))\n",
    "df_test"
   ]
  },
  {
   "cell_type": "code",
   "execution_count": 12,
   "metadata": {
    "colab": {
     "base_uri": "https://localhost:8080/"
    },
    "id": "CEpEZAhJPpaV",
    "outputId": "bc05ebff-819f-4438-96e2-c5ea32658319"
   },
   "outputs": [
    {
     "name": "stdout",
     "output_type": "stream",
     "text": [
      "<class 'pandas.core.frame.DataFrame'>\n",
      "RangeIndex: 96 entries, 0 to 95\n",
      "Data columns (total 2 columns):\n",
      " #   Column  Non-Null Count  Dtype         \n",
      "---  ------  --------------  -----         \n",
      " 0   ds      96 non-null     datetime64[ns]\n",
      " 1   y       96 non-null     float64       \n",
      "dtypes: datetime64[ns](1), float64(1)\n",
      "memory usage: 1.6 KB\n"
     ]
    }
   ],
   "source": [
    "# Information on the dataframe\n",
    "df_train['y']=df_train['y'].astype(float)\n",
    "df_train.info()"
   ]
  },
  {
   "cell_type": "code",
   "execution_count": 13,
   "metadata": {
    "colab": {
     "base_uri": "https://localhost:8080/"
    },
    "id": "HuxQE2M1nR3l",
    "outputId": "abd1af1e-53be-48ca-d40f-103c32aae43c"
   },
   "outputs": [
    {
     "name": "stdout",
     "output_type": "stream",
     "text": [
      "<class 'pandas.core.frame.DataFrame'>\n",
      "RangeIndex: 96 entries, 0 to 95\n",
      "Data columns (total 2 columns):\n",
      " #   Column  Non-Null Count  Dtype         \n",
      "---  ------  --------------  -----         \n",
      " 0   ds      96 non-null     datetime64[ns]\n",
      " 1   y       96 non-null     float64       \n",
      "dtypes: datetime64[ns](1), float64(1)\n",
      "memory usage: 1.6 KB\n"
     ]
    }
   ],
   "source": [
    "# Information on the dataframe\n",
    "df_test['y']=df_test['y'].astype(float)\n",
    "df_test.info()"
   ]
  },
  {
   "cell_type": "markdown",
   "metadata": {
    "id": "VinXfvMYnDna"
   },
   "source": [
    "Next, let's visualize the closing prices of the two tickers using `seaborn`, and add the legend to the plot using `matplotlib`. We can see that the price for Google increased a lot starting in late 2020, and almost doubled in late 2021."
   ]
  },
  {
   "cell_type": "code",
   "execution_count": 14,
   "metadata": {
    "colab": {
     "base_uri": "https://localhost:8080/",
     "height": 721
    },
    "id": "NhKMo4c-oU_8",
    "outputId": "4daa49e3-3d5a-41c6-be56-a7df7660b661"
   },
   "outputs": [
    {
     "data": {
      "text/plain": [
       "<matplotlib.legend.Legend at 0x10fd35ca0>"
      ]
     },
     "execution_count": 14,
     "metadata": {},
     "output_type": "execute_result"
    },
    {
     "data": {
      "image/png": "[encoded data removed]",
      "text/plain": [
       "<Figure size 1200x800 with 1 Axes>"
      ]
     },
     "metadata": {},
     "output_type": "display_data"
    }
   ],
   "source": [
    "# Visualize data using seaborn\n",
    "sns.set(rc={'figure.figsize':(12,8)})\n",
    "sns.lineplot(x=df_train['ds'], y=df_train['y'])\n",
    "plt.legend(['Training metric'])"
   ]
  },
  {
   "cell_type": "markdown",
   "metadata": {
    "id": "rv4D-_sSoVHx"
   },
   "source": [
    "# Step 3: Build Time Series Model Using Prophet in Python"
   ]
  },
  {
   "cell_type": "code",
   "execution_count": 15,
   "metadata": {
    "colab": {
     "base_uri": "https://localhost:8080/"
    },
    "id": "RZoayReeoYGu",
    "outputId": "84183a4a-23c1-4f23-ba6f-346123ade850"
   },
   "outputs": [
    {
     "name": "stderr",
     "output_type": "stream",
     "text": [
      "19:58:26 - cmdstanpy - INFO - Chain [1] start processing\n",
      "19:58:26 - cmdstanpy - INFO - Chain [1] done processing\n"
     ]
    },
    {
     "data": {
      "text/plain": [
       "<prophet.forecaster.Prophet at 0x118c00380>"
      ]
     },
     "execution_count": 15,
     "metadata": {},
     "output_type": "execute_result"
    }
   ],
   "source": [
    "# Add seasonality\n",
    "model = Prophet(interval_width=0.99, yearly_seasonality=False, weekly_seasonality=False, daily_seasonality=False, growth='flat')\n",
    "model.add_seasonality(name='hourly', period=1/24, fourier_order=5)\n",
    "\n",
    "# Fit the model on the training dataset\n",
    "model.fit(df_train)"
   ]
  },
  {
   "cell_type": "markdown",
   "metadata": {
    "id": "lbBJPgjlbX1p"
   },
   "source": [
    "# Step 4: Make Predictions Using Prophet in Python"
   ]
  },
  {
   "cell_type": "markdown",
   "metadata": {
    "id": "q5pt-y6vxg5C"
   },
   "source": [
    "After building the model, in step 4, we use the model to make predictions on the dataset. The forecast plot shows that the predictions are in general aligned with the actual values."
   ]
  },
  {
   "cell_type": "code",
   "execution_count": 16,
   "metadata": {
    "colab": {
     "base_uri": "https://localhost:8080/",
     "height": 601
    },
    "id": "idCZyhdexIJN",
    "outputId": "841e179e-73db-4a12-fbdb-554eb6bd35f8",
    "scrolled": false
   },
   "outputs": [
    {
     "data": {
      "image/png": "[encoded data removed]",
      "text/plain": [
       "<Figure size 1000x600 with 1 Axes>"
      ]
     },
     "metadata": {},
     "output_type": "display_data"
    }
   ],
   "source": [
    "# Make prediction\n",
    "forecast = model.predict(df_test)\n",
    "\n",
    "# Visualize the forecast\n",
    "model.plot(forecast); # Add semi-colon to remove the duplicated chart"
   ]
  },
  {
   "cell_type": "markdown",
   "metadata": {
    "id": "ylnS1AkqyGyo"
   },
   "source": [
    "We can also check the components plot for the trend, weekly seasonality, and yearly seasonality."
   ]
  },
  {
   "cell_type": "code",
   "execution_count": 17,
   "metadata": {
    "colab": {
     "base_uri": "https://localhost:8080/",
     "height": 601
    },
    "id": "8DMoBQnOzXX0",
    "outputId": "7cc6f6d2-b882-416a-c206-4516f49b2d27"
   },
   "outputs": [
    {
     "data": {
      "image/png": "[encoded data removed]",
      "text/plain": [
       "<Figure size 900x600 with 2 Axes>"
      ]
     },
     "metadata": {},
     "output_type": "display_data"
    }
   ],
   "source": [
    "# Visualize the forecast components\n",
    "model.plot_components(forecast);"
   ]
  },
  {
   "cell_type": "markdown",
   "metadata": {
    "id": "BLOvRvxmcKIc"
   },
   "source": [
    "# Step 5: Check Time Series Model Performace"
   ]
  },
  {
   "cell_type": "code",
   "execution_count": 18,
   "metadata": {
    "colab": {
     "base_uri": "https://localhost:8080/",
     "height": 1000
    },
    "id": "JHKAg6JGnR3m",
    "outputId": "32bce532-137c-4094-fb2a-920c2c2189ee"
   },
   "outputs": [
    {
     "data": {
      "text/html": [
       "<div>\n",
       "<style scoped>\n",
       "    .dataframe tbody tr th:only-of-type {\n",
       "        vertical-align: middle;\n",
       "    }\n",
       "\n",
       "    .dataframe tbody tr th {\n",
       "        vertical-align: top;\n",
       "    }\n",
       "\n",
       "    .dataframe thead th {\n",
       "        text-align: right;\n",
       "    }\n",
       "</style>\n",
       "<table border=\"1\" class=\"dataframe\">\n",
       "  <thead>\n",
       "    <tr style=\"text-align: right;\">\n",
       "      <th></th>\n",
       "      <th>ds</th>\n",
       "      <th>trend</th>\n",
       "      <th>yhat_lower</th>\n",
       "      <th>yhat_upper</th>\n",
       "      <th>trend_lower</th>\n",
       "      <th>trend_upper</th>\n",
       "      <th>additive_terms</th>\n",
       "      <th>additive_terms_lower</th>\n",
       "      <th>additive_terms_upper</th>\n",
       "      <th>hourly</th>\n",
       "      <th>hourly_lower</th>\n",
       "      <th>hourly_upper</th>\n",
       "      <th>multiplicative_terms</th>\n",
       "      <th>multiplicative_terms_lower</th>\n",
       "      <th>multiplicative_terms_upper</th>\n",
       "      <th>yhat</th>\n",
       "    </tr>\n",
       "  </thead>\n",
       "  <tbody>\n",
       "    <tr>\n",
       "      <th>0</th>\n",
       "      <td>1970-01-01 02:00:00</td>\n",
       "      <td>4.154009</td>\n",
       "      <td>5.812829</td>\n",
       "      <td>8.883622</td>\n",
       "      <td>4.154009</td>\n",
       "      <td>4.154009</td>\n",
       "      <td>3.171488</td>\n",
       "      <td>3.171488</td>\n",
       "      <td>3.171488</td>\n",
       "      <td>3.171488</td>\n",
       "      <td>3.171488</td>\n",
       "      <td>3.171488</td>\n",
       "      <td>0.0</td>\n",
       "      <td>0.0</td>\n",
       "      <td>0.0</td>\n",
       "      <td>7.325496</td>\n",
       "    </tr>\n",
       "    <tr>\n",
       "      <th>1</th>\n",
       "      <td>1970-01-01 02:00:30</td>\n",
       "      <td>4.154009</td>\n",
       "      <td>5.418797</td>\n",
       "      <td>8.486955</td>\n",
       "      <td>4.154009</td>\n",
       "      <td>4.154009</td>\n",
       "      <td>2.805595</td>\n",
       "      <td>2.805595</td>\n",
       "      <td>2.805595</td>\n",
       "      <td>2.805595</td>\n",
       "      <td>2.805595</td>\n",
       "      <td>2.805595</td>\n",
       "      <td>0.0</td>\n",
       "      <td>0.0</td>\n",
       "      <td>0.0</td>\n",
       "      <td>6.959604</td>\n",
       "    </tr>\n",
       "    <tr>\n",
       "      <th>2</th>\n",
       "      <td>1970-01-01 02:01:00</td>\n",
       "      <td>4.154009</td>\n",
       "      <td>5.117800</td>\n",
       "      <td>8.182346</td>\n",
       "      <td>4.154009</td>\n",
       "      <td>4.154009</td>\n",
       "      <td>2.411425</td>\n",
       "      <td>2.411425</td>\n",
       "      <td>2.411425</td>\n",
       "      <td>2.411425</td>\n",
       "      <td>2.411425</td>\n",
       "      <td>2.411425</td>\n",
       "      <td>0.0</td>\n",
       "      <td>0.0</td>\n",
       "      <td>0.0</td>\n",
       "      <td>6.565434</td>\n",
       "    </tr>\n",
       "    <tr>\n",
       "      <th>3</th>\n",
       "      <td>1970-01-01 02:01:30</td>\n",
       "      <td>4.154009</td>\n",
       "      <td>4.796319</td>\n",
       "      <td>7.825223</td>\n",
       "      <td>4.154009</td>\n",
       "      <td>4.154009</td>\n",
       "      <td>2.002823</td>\n",
       "      <td>2.002823</td>\n",
       "      <td>2.002823</td>\n",
       "      <td>2.002823</td>\n",
       "      <td>2.002823</td>\n",
       "      <td>2.002823</td>\n",
       "      <td>0.0</td>\n",
       "      <td>0.0</td>\n",
       "      <td>0.0</td>\n",
       "      <td>6.156832</td>\n",
       "    </tr>\n",
       "    <tr>\n",
       "      <th>4</th>\n",
       "      <td>1970-01-01 02:02:00</td>\n",
       "      <td>4.154009</td>\n",
       "      <td>4.223092</td>\n",
       "      <td>7.402782</td>\n",
       "      <td>4.154009</td>\n",
       "      <td>4.154009</td>\n",
       "      <td>1.593054</td>\n",
       "      <td>1.593054</td>\n",
       "      <td>1.593054</td>\n",
       "      <td>1.593054</td>\n",
       "      <td>1.593054</td>\n",
       "      <td>1.593054</td>\n",
       "      <td>0.0</td>\n",
       "      <td>0.0</td>\n",
       "      <td>0.0</td>\n",
       "      <td>5.747063</td>\n",
       "    </tr>\n",
       "    <tr>\n",
       "      <th>...</th>\n",
       "      <td>...</td>\n",
       "      <td>...</td>\n",
       "      <td>...</td>\n",
       "      <td>...</td>\n",
       "      <td>...</td>\n",
       "      <td>...</td>\n",
       "      <td>...</td>\n",
       "      <td>...</td>\n",
       "      <td>...</td>\n",
       "      <td>...</td>\n",
       "      <td>...</td>\n",
       "      <td>...</td>\n",
       "      <td>...</td>\n",
       "      <td>...</td>\n",
       "      <td>...</td>\n",
       "      <td>...</td>\n",
       "    </tr>\n",
       "    <tr>\n",
       "      <th>91</th>\n",
       "      <td>1970-01-01 02:48:30</td>\n",
       "      <td>4.154009</td>\n",
       "      <td>1.140513</td>\n",
       "      <td>4.222818</td>\n",
       "      <td>4.154009</td>\n",
       "      <td>4.154009</td>\n",
       "      <td>-1.406313</td>\n",
       "      <td>-1.406313</td>\n",
       "      <td>-1.406313</td>\n",
       "      <td>-1.406313</td>\n",
       "      <td>-1.406313</td>\n",
       "      <td>-1.406313</td>\n",
       "      <td>0.0</td>\n",
       "      <td>0.0</td>\n",
       "      <td>0.0</td>\n",
       "      <td>2.747696</td>\n",
       "    </tr>\n",
       "    <tr>\n",
       "      <th>92</th>\n",
       "      <td>1970-01-01 02:49:00</td>\n",
       "      <td>4.154009</td>\n",
       "      <td>1.379940</td>\n",
       "      <td>4.341281</td>\n",
       "      <td>4.154009</td>\n",
       "      <td>4.154009</td>\n",
       "      <td>-1.370110</td>\n",
       "      <td>-1.370110</td>\n",
       "      <td>-1.370110</td>\n",
       "      <td>-1.370110</td>\n",
       "      <td>-1.370110</td>\n",
       "      <td>-1.370110</td>\n",
       "      <td>0.0</td>\n",
       "      <td>0.0</td>\n",
       "      <td>0.0</td>\n",
       "      <td>2.783899</td>\n",
       "    </tr>\n",
       "    <tr>\n",
       "      <th>93</th>\n",
       "      <td>1970-01-01 02:49:30</td>\n",
       "      <td>4.154009</td>\n",
       "      <td>1.447477</td>\n",
       "      <td>4.500451</td>\n",
       "      <td>4.154009</td>\n",
       "      <td>4.154009</td>\n",
       "      <td>-1.264403</td>\n",
       "      <td>-1.264403</td>\n",
       "      <td>-1.264403</td>\n",
       "      <td>-1.264403</td>\n",
       "      <td>-1.264403</td>\n",
       "      <td>-1.264403</td>\n",
       "      <td>0.0</td>\n",
       "      <td>0.0</td>\n",
       "      <td>0.0</td>\n",
       "      <td>2.889606</td>\n",
       "    </tr>\n",
       "    <tr>\n",
       "      <th>94</th>\n",
       "      <td>1970-01-01 02:50:00</td>\n",
       "      <td>4.154009</td>\n",
       "      <td>1.640558</td>\n",
       "      <td>4.681878</td>\n",
       "      <td>4.154009</td>\n",
       "      <td>4.154009</td>\n",
       "      <td>-1.086750</td>\n",
       "      <td>-1.086750</td>\n",
       "      <td>-1.086750</td>\n",
       "      <td>-1.086750</td>\n",
       "      <td>-1.086750</td>\n",
       "      <td>-1.086750</td>\n",
       "      <td>0.0</td>\n",
       "      <td>0.0</td>\n",
       "      <td>0.0</td>\n",
       "      <td>3.067259</td>\n",
       "    </tr>\n",
       "    <tr>\n",
       "      <th>95</th>\n",
       "      <td>1970-01-01 02:50:30</td>\n",
       "      <td>4.154009</td>\n",
       "      <td>1.778603</td>\n",
       "      <td>4.816690</td>\n",
       "      <td>4.154009</td>\n",
       "      <td>4.154009</td>\n",
       "      <td>-0.837815</td>\n",
       "      <td>-0.837815</td>\n",
       "      <td>-0.837815</td>\n",
       "      <td>-0.837815</td>\n",
       "      <td>-0.837815</td>\n",
       "      <td>-0.837815</td>\n",
       "      <td>0.0</td>\n",
       "      <td>0.0</td>\n",
       "      <td>0.0</td>\n",
       "      <td>3.316194</td>\n",
       "    </tr>\n",
       "  </tbody>\n",
       "</table>\n",
       "<p>96 rows × 16 columns</p>\n",
       "</div>"
      ],
      "text/plain": [
       "                    ds     trend  yhat_lower  yhat_upper  trend_lower  \\\n",
       "0  1970-01-01 02:00:00  4.154009    5.812829    8.883622     4.154009   \n",
       "1  1970-01-01 02:00:30  4.154009    5.418797    8.486955     4.154009   \n",
       "2  1970-01-01 02:01:00  4.154009    5.117800    8.182346     4.154009   \n",
       "3  1970-01-01 02:01:30  4.154009    4.796319    7.825223     4.154009   \n",
       "4  1970-01-01 02:02:00  4.154009    4.223092    7.402782     4.154009   \n",
       "..                 ...       ...         ...         ...          ...   \n",
       "91 1970-01-01 02:48:30  4.154009    1.140513    4.222818     4.154009   \n",
       "92 1970-01-01 02:49:00  4.154009    1.379940    4.341281     4.154009   \n",
       "93 1970-01-01 02:49:30  4.154009    1.447477    4.500451     4.154009   \n",
       "94 1970-01-01 02:50:00  4.154009    1.640558    4.681878     4.154009   \n",
       "95 1970-01-01 02:50:30  4.154009    1.778603    4.816690     4.154009   \n",
       "\n",
       "    trend_upper  additive_terms  additive_terms_lower  additive_terms_upper  \\\n",
       "0      4.154009        3.171488              3.171488              3.171488   \n",
       "1      4.154009        2.805595              2.805595              2.805595   \n",
       "2      4.154009        2.411425              2.411425              2.411425   \n",
       "3      4.154009        2.002823              2.002823              2.002823   \n",
       "4      4.154009        1.593054              1.593054              1.593054   \n",
       "..          ...             ...                   ...                   ...   \n",
       "91     4.154009       -1.406313             -1.406313             -1.406313   \n",
       "92     4.154009       -1.370110             -1.370110             -1.370110   \n",
       "93     4.154009       -1.264403             -1.264403             -1.264403   \n",
       "94     4.154009       -1.086750             -1.086750             -1.086750   \n",
       "95     4.154009       -0.837815             -0.837815             -0.837815   \n",
       "\n",
       "      hourly  hourly_lower  hourly_upper  multiplicative_terms  \\\n",
       "0   3.171488      3.171488      3.171488                   0.0   \n",
       "1   2.805595      2.805595      2.805595                   0.0   \n",
       "2   2.411425      2.411425      2.411425                   0.0   \n",
       "3   2.002823      2.002823      2.002823                   0.0   \n",
       "4   1.593054      1.593054      1.593054                   0.0   \n",
       "..       ...           ...           ...                   ...   \n",
       "91 -1.406313     -1.406313     -1.406313                   0.0   \n",
       "92 -1.370110     -1.370110     -1.370110                   0.0   \n",
       "93 -1.264403     -1.264403     -1.264403                   0.0   \n",
       "94 -1.086750     -1.086750     -1.086750                   0.0   \n",
       "95 -0.837815     -0.837815     -0.837815                   0.0   \n",
       "\n",
       "    multiplicative_terms_lower  multiplicative_terms_upper      yhat  \n",
       "0                          0.0                         0.0  7.325496  \n",
       "1                          0.0                         0.0  6.959604  \n",
       "2                          0.0                         0.0  6.565434  \n",
       "3                          0.0                         0.0  6.156832  \n",
       "4                          0.0                         0.0  5.747063  \n",
       "..                         ...                         ...       ...  \n",
       "91                         0.0                         0.0  2.747696  \n",
       "92                         0.0                         0.0  2.783899  \n",
       "93                         0.0                         0.0  2.889606  \n",
       "94                         0.0                         0.0  3.067259  \n",
       "95                         0.0                         0.0  3.316194  \n",
       "\n",
       "[96 rows x 16 columns]"
      ]
     },
     "execution_count": 18,
     "metadata": {},
     "output_type": "execute_result"
    }
   ],
   "source": [
    "forecast"
   ]
  },
  {
   "cell_type": "code",
   "execution_count": 19,
   "metadata": {
    "id": "xo8fY96enR3m"
   },
   "outputs": [],
   "source": [
    "# Merge actual and predicted values\n",
    "performance = pd.merge(df_test, forecast[['ds', 'yhat', 'yhat_lower', 'yhat_upper']], on='ds')"
   ]
  },
  {
   "cell_type": "code",
   "execution_count": 20,
   "metadata": {
    "colab": {
     "base_uri": "https://localhost:8080/",
     "height": 1000
    },
    "id": "WHhXkJslnR3m",
    "outputId": "817907d4-a581-484c-a35e-9b56f6019545"
   },
   "outputs": [
    {
     "data": {
      "text/html": [
       "<div>\n",
       "<style scoped>\n",
       "    .dataframe tbody tr th:only-of-type {\n",
       "        vertical-align: middle;\n",
       "    }\n",
       "\n",
       "    .dataframe tbody tr th {\n",
       "        vertical-align: top;\n",
       "    }\n",
       "\n",
       "    .dataframe thead th {\n",
       "        text-align: right;\n",
       "    }\n",
       "</style>\n",
       "<table border=\"1\" class=\"dataframe\">\n",
       "  <thead>\n",
       "    <tr style=\"text-align: right;\">\n",
       "      <th></th>\n",
       "      <th>ds</th>\n",
       "      <th>y</th>\n",
       "      <th>yhat</th>\n",
       "      <th>yhat_lower</th>\n",
       "      <th>yhat_upper</th>\n",
       "    </tr>\n",
       "  </thead>\n",
       "  <tbody>\n",
       "    <tr>\n",
       "      <th>0</th>\n",
       "      <td>1970-01-01 02:00:00</td>\n",
       "      <td>4.141844</td>\n",
       "      <td>7.325496</td>\n",
       "      <td>5.812829</td>\n",
       "      <td>8.883622</td>\n",
       "    </tr>\n",
       "    <tr>\n",
       "      <th>1</th>\n",
       "      <td>1970-01-01 02:00:30</td>\n",
       "      <td>7.326733</td>\n",
       "      <td>6.959604</td>\n",
       "      <td>5.418797</td>\n",
       "      <td>8.486955</td>\n",
       "    </tr>\n",
       "    <tr>\n",
       "      <th>2</th>\n",
       "      <td>1970-01-01 02:01:00</td>\n",
       "      <td>7.846639</td>\n",
       "      <td>6.565434</td>\n",
       "      <td>5.117800</td>\n",
       "      <td>8.182346</td>\n",
       "    </tr>\n",
       "    <tr>\n",
       "      <th>3</th>\n",
       "      <td>1970-01-01 02:01:30</td>\n",
       "      <td>8.300000</td>\n",
       "      <td>6.156832</td>\n",
       "      <td>4.796319</td>\n",
       "      <td>7.825223</td>\n",
       "    </tr>\n",
       "    <tr>\n",
       "      <th>4</th>\n",
       "      <td>1970-01-01 02:02:00</td>\n",
       "      <td>7.064057</td>\n",
       "      <td>5.747063</td>\n",
       "      <td>4.223092</td>\n",
       "      <td>7.402782</td>\n",
       "    </tr>\n",
       "    <tr>\n",
       "      <th>...</th>\n",
       "      <td>...</td>\n",
       "      <td>...</td>\n",
       "      <td>...</td>\n",
       "      <td>...</td>\n",
       "      <td>...</td>\n",
       "    </tr>\n",
       "    <tr>\n",
       "      <th>91</th>\n",
       "      <td>1970-01-01 02:48:30</td>\n",
       "      <td>3.148649</td>\n",
       "      <td>2.747696</td>\n",
       "      <td>1.140513</td>\n",
       "      <td>4.222818</td>\n",
       "    </tr>\n",
       "    <tr>\n",
       "      <th>92</th>\n",
       "      <td>1970-01-01 02:49:00</td>\n",
       "      <td>3.018182</td>\n",
       "      <td>2.783899</td>\n",
       "      <td>1.379940</td>\n",
       "      <td>4.341281</td>\n",
       "    </tr>\n",
       "    <tr>\n",
       "      <th>93</th>\n",
       "      <td>1970-01-01 02:49:30</td>\n",
       "      <td>3.018519</td>\n",
       "      <td>2.889606</td>\n",
       "      <td>1.447477</td>\n",
       "      <td>4.500451</td>\n",
       "    </tr>\n",
       "    <tr>\n",
       "      <th>94</th>\n",
       "      <td>1970-01-01 02:50:00</td>\n",
       "      <td>3.016260</td>\n",
       "      <td>3.067259</td>\n",
       "      <td>1.640558</td>\n",
       "      <td>4.681878</td>\n",
       "    </tr>\n",
       "    <tr>\n",
       "      <th>95</th>\n",
       "      <td>1970-01-01 02:50:30</td>\n",
       "      <td>3.000000</td>\n",
       "      <td>3.316194</td>\n",
       "      <td>1.778603</td>\n",
       "      <td>4.816690</td>\n",
       "    </tr>\n",
       "  </tbody>\n",
       "</table>\n",
       "<p>96 rows × 5 columns</p>\n",
       "</div>"
      ],
      "text/plain": [
       "                    ds         y      yhat  yhat_lower  yhat_upper\n",
       "0  1970-01-01 02:00:00  4.141844  7.325496    5.812829    8.883622\n",
       "1  1970-01-01 02:00:30  7.326733  6.959604    5.418797    8.486955\n",
       "2  1970-01-01 02:01:00  7.846639  6.565434    5.117800    8.182346\n",
       "3  1970-01-01 02:01:30  8.300000  6.156832    4.796319    7.825223\n",
       "4  1970-01-01 02:02:00  7.064057  5.747063    4.223092    7.402782\n",
       "..                 ...       ...       ...         ...         ...\n",
       "91 1970-01-01 02:48:30  3.148649  2.747696    1.140513    4.222818\n",
       "92 1970-01-01 02:49:00  3.018182  2.783899    1.379940    4.341281\n",
       "93 1970-01-01 02:49:30  3.018519  2.889606    1.447477    4.500451\n",
       "94 1970-01-01 02:50:00  3.016260  3.067259    1.640558    4.681878\n",
       "95 1970-01-01 02:50:30  3.000000  3.316194    1.778603    4.816690\n",
       "\n",
       "[96 rows x 5 columns]"
      ]
     },
     "execution_count": 20,
     "metadata": {},
     "output_type": "execute_result"
    }
   ],
   "source": [
    "performance"
   ]
  },
  {
   "cell_type": "code",
   "execution_count": 21,
   "metadata": {
    "colab": {
     "base_uri": "https://localhost:8080/",
     "height": 356
    },
    "id": "tjZCV1qenR3m",
    "outputId": "e3ba45f3-a8a0-45fe-91a6-64d26ce34ba3"
   },
   "outputs": [
    {
     "name": "stdout",
     "output_type": "stream",
     "text": [
      "The MAE for the model is 0.39025\n",
      "The MAPE for the model is 0.09448\n"
     ]
    }
   ],
   "source": [
    "# Check MAE value\n",
    "performance_MAE = mean_absolute_error(performance['y'], performance['yhat'])\n",
    "print(f'The MAE for the model is {performance_MAE:.5f}')\n",
    "\n",
    "# Check MAPE value\n",
    "performance_MAPE = mean_absolute_percentage_error(performance['y'], performance['yhat'])\n",
    "print(f'The MAPE for the model is {performance_MAPE:.5f}')"
   ]
  },
  {
   "cell_type": "markdown",
   "metadata": {
    "id": "liM3SW227N-b"
   },
   "source": [
    "# Step 6: Identify Anomalies"
   ]
  },
  {
   "cell_type": "markdown",
   "metadata": {
    "id": "d3lS7hpdnGqp"
   },
   "source": [
    "In step 6, we will identify the time series anomalies by checking if the actual value is outside of the uncertainty interval. If the actual value is smaller than the lower bound or larger than the upper bound of the uncertainty interval, the anomaly indicator is set to 1, otherwise, it's set to 0.\n",
    "\n",
    "Using `value_counts()`, we can see that there are 6 outliers out of 505 data points."
   ]
  },
  {
   "cell_type": "code",
   "execution_count": 22,
   "metadata": {
    "id": "BmchMZp77S7-"
   },
   "outputs": [],
   "source": [
    "# Create an anomaly indicator\n",
    "performance['anomaly'] = performance.apply(lambda rows: 1 if ((float(rows.y)<rows.yhat_lower)|(float(rows.y)>rows.yhat_upper)) else 0, axis = 1)\n"
   ]
  },
  {
   "cell_type": "code",
   "execution_count": 23,
   "metadata": {
    "colab": {
     "base_uri": "https://localhost:8080/"
    },
    "id": "HNEasRwmnR3n",
    "outputId": "ee076026-8cac-43c1-80bf-db9f88a2bf2a"
   },
   "outputs": [
    {
     "name": "stdout",
     "output_type": "stream",
     "text": [
      "<class 'pandas.core.frame.DataFrame'>\n",
      "RangeIndex: 96 entries, 0 to 95\n",
      "Data columns (total 6 columns):\n",
      " #   Column      Non-Null Count  Dtype         \n",
      "---  ------      --------------  -----         \n",
      " 0   ds          96 non-null     datetime64[ns]\n",
      " 1   y           96 non-null     float64       \n",
      " 2   yhat        96 non-null     float64       \n",
      " 3   yhat_lower  96 non-null     float64       \n",
      " 4   yhat_upper  96 non-null     float64       \n",
      " 5   anomaly     96 non-null     int64         \n",
      "dtypes: datetime64[ns](1), float64(4), int64(1)\n",
      "memory usage: 4.6 KB\n"
     ]
    }
   ],
   "source": [
    "performance.info()"
   ]
  },
  {
   "cell_type": "code",
   "execution_count": 24,
   "metadata": {
    "colab": {
     "base_uri": "https://localhost:8080/",
     "height": 178
    },
    "id": "AmlsjQLlnR3n",
    "outputId": "6157ab9c-f9c5-4f90-fba5-3df850c9314d"
   },
   "outputs": [
    {
     "data": {
      "text/plain": [
       "anomaly\n",
       "0    94\n",
       "1     2\n",
       "Name: count, dtype: int64"
      ]
     },
     "execution_count": 24,
     "metadata": {},
     "output_type": "execute_result"
    }
   ],
   "source": [
    "# Check the number of anomalies\n",
    "performance['anomaly'].value_counts()"
   ]
  },
  {
   "cell_type": "markdown",
   "metadata": {
    "id": "RADSkUwPoNnm"
   },
   "source": [
    "After printing out the anomalies, we can see that all the outliers are lower than the lower bound of the uncertainty interval."
   ]
  },
  {
   "cell_type": "code",
   "execution_count": 25,
   "metadata": {
    "colab": {
     "base_uri": "https://localhost:8080/",
     "height": 551
    },
    "id": "IbiUpzv979Qd",
    "outputId": "52129a95-c6ca-48bf-cfe7-d858554b6827"
   },
   "outputs": [
    {
     "data": {
      "text/html": [
       "<div>\n",
       "<style scoped>\n",
       "    .dataframe tbody tr th:only-of-type {\n",
       "        vertical-align: middle;\n",
       "    }\n",
       "\n",
       "    .dataframe tbody tr th {\n",
       "        vertical-align: top;\n",
       "    }\n",
       "\n",
       "    .dataframe thead th {\n",
       "        text-align: right;\n",
       "    }\n",
       "</style>\n",
       "<table border=\"1\" class=\"dataframe\">\n",
       "  <thead>\n",
       "    <tr style=\"text-align: right;\">\n",
       "      <th></th>\n",
       "      <th>ds</th>\n",
       "      <th>y</th>\n",
       "      <th>yhat</th>\n",
       "      <th>yhat_lower</th>\n",
       "      <th>yhat_upper</th>\n",
       "      <th>anomaly</th>\n",
       "    </tr>\n",
       "  </thead>\n",
       "  <tbody>\n",
       "    <tr>\n",
       "      <th>0</th>\n",
       "      <td>1970-01-01 02:00:00</td>\n",
       "      <td>4.141844</td>\n",
       "      <td>7.325496</td>\n",
       "      <td>5.812829</td>\n",
       "      <td>8.883622</td>\n",
       "      <td>1</td>\n",
       "    </tr>\n",
       "    <tr>\n",
       "      <th>3</th>\n",
       "      <td>1970-01-01 02:01:30</td>\n",
       "      <td>8.300000</td>\n",
       "      <td>6.156832</td>\n",
       "      <td>4.796319</td>\n",
       "      <td>7.825223</td>\n",
       "      <td>1</td>\n",
       "    </tr>\n",
       "  </tbody>\n",
       "</table>\n",
       "</div>"
      ],
      "text/plain": [
       "                   ds         y      yhat  yhat_lower  yhat_upper  anomaly\n",
       "0 1970-01-01 02:00:00  4.141844  7.325496    5.812829    8.883622        1\n",
       "3 1970-01-01 02:01:30  8.300000  6.156832    4.796319    7.825223        1"
      ]
     },
     "execution_count": 25,
     "metadata": {},
     "output_type": "execute_result"
    }
   ],
   "source": [
    "# Take a look at the anomalies\n",
    "anomalies = performance[performance['anomaly']==1].sort_values(by='ds')\n",
    "anomalies"
   ]
  },
  {
   "cell_type": "markdown",
   "metadata": {
    "id": "6Un2KsjHovfj"
   },
   "source": [
    "In the visualization, all the dots are actual values and the black line represents the predicted values. The orange dots are the outliers."
   ]
  },
  {
   "cell_type": "code",
   "execution_count": 26,
   "metadata": {
    "colab": {
     "base_uri": "https://localhost:8080/",
     "height": 721
    },
    "id": "gGucpnRu8GAS",
    "outputId": "40dc4943-5e40-480f-c29a-6fe2c14eb2b4"
   },
   "outputs": [
    {
     "data": {
      "text/plain": [
       "<Axes: xlabel='ds', ylabel='y'>"
      ]
     },
     "execution_count": 26,
     "metadata": {},
     "output_type": "execute_result"
    },
    {
     "data": {
      "image/png": "[encoded data removed]",
      "text/plain": [
       "<Figure size 1200x800 with 1 Axes>"
      ]
     },
     "metadata": {},
     "output_type": "display_data"
    }
   ],
   "source": [
    "# Visualize the anomalies\n",
    "sns.scatterplot(x='ds', y='y', data=performance, hue='anomaly')\n",
    "sns.lineplot(x='ds', y='yhat', data=performance, color='black')"
   ]
  },
  {
   "cell_type": "code",
   "execution_count": null,
   "metadata": {
    "id": "7nv18iH9nR3n"
   },
   "outputs": [],
   "source": []
  }
 ],
 "metadata": {
  "colab": {
   "provenance": []
  },
  "kernelspec": {
   "display_name": ".venv",
   "language": "python",
   "name": "python3"
  },
  "language_info": {
   "codemirror_mode": {
    "name": "ipython",
    "version": 3
   },
   "file_extension": ".py",
   "mimetype": "text/x-python",
   "name": "python",
   "nbconvert_exporter": "python",
   "pygments_lexer": "ipython3",
   "version": "3.12.3"
  }
 },
 "nbformat": 4,
 "nbformat_minor": 0
}
